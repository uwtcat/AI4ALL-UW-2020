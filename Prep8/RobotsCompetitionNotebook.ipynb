{
  "nbformat": 4,
  "nbformat_minor": 0,
  "metadata": {
    "colab": {
      "name": "Copy of Copy of Prep8_RobotsRegressionNotebook.ipynb",
      "provenance": [],
      "toc_visible": true,
      "include_colab_link": true
    },
    "kernelspec": {
      "display_name": "Python 3",
      "name": "python3"
    }
  },
  "cells": [
    {
      "cell_type": "markdown",
      "metadata": {
        "id": "view-in-github",
        "colab_type": "text"
      },
      "source": [
        "<a href=\"https://colab.research.google.com/github/uwtcat/AI4ALL-UW-2020/blob/master/Prep8/RobotsCompetitionNotebook.ipynb\" target=\"_parent\"><img src=\"https://colab.research.google.com/assets/colab-badge.svg\" alt=\"Open In Colab\"/></a>"
      ]
    },
    {
      "cell_type": "markdown",
      "metadata": {
        "colab_type": "text",
        "id": "rX8mhOLljYeM"
      },
      "source": [
        "##### Copyright 2020 The UWTCAT\n"
      ]
    },
    {
      "cell_type": "markdown",
      "metadata": {
        "colab_type": "text",
        "id": "ZIAkIlfmCe1B"
      },
      "source": [
        "[link text](https://)# The Hello World of The Lego EV3 Robot with Regression"
      ]
    },
    {
      "cell_type": "markdown",
      "metadata": {
        "colab_type": "text",
        "id": "fA93WUy1zzWf"
      },
      "source": [
        "Like every first app you should start with something super simple that shows the overall scaffolding for how your code works. \n",
        "\n",
        "In the case of creating regression models, the sample we will use is one where it learns the relationship between an image of a hand-written digit and the digit label itself. So, for example, if you were writing code for a function like this, you already know the 'rules' — \n",
        "\n",
        "\n",
        "```\n",
        "float hw_function(float x){\n",
        "    float y = (2 * x) - 1;\n",
        "    return y;\n",
        "}\n",
        "```\n",
        "\n",
        "So how would you train a regression model to do the equivalent task? Using data! By feeding it with a set of Xs, and a set of Ys, it should be able to figure out the relationship between them. \n",
        "\n",
        "This is obviously a very different paradigm than what you might be used to, so let's step through it piece by piece.\n"
      ]
    },
    {
      "cell_type": "markdown",
      "metadata": {
        "colab_type": "text",
        "id": "DzbtdRcZDO9B"
      },
      "source": [
        "## Imports\n",
        "\n",
        "Let's start with our imports. Here we are importing TensorFlow and calling it tf for ease of use.\n",
        "\n",
        "We then import a library called numpy, which helps us to represent our data as lists easily and quickly.\n",
        "\n",
        "The framework for defining a neural network as a set of Sequential layers is called keras, so we import that too."
      ]
    },
    {
      "cell_type": "markdown",
      "metadata": {
        "id": "avb2EeflH2cM",
        "colab_type": "text"
      },
      "source": [
        "### What are we doing in the code below?"
      ]
    },
    {
      "cell_type": "code",
      "metadata": {
        "colab_type": "code",
        "id": "X9uIpOS2zx7k",
        "colab": {
          "base_uri": "https://localhost:8080/",
          "height": 431
        },
        "outputId": "18642afe-be62-44c7-a9a2-3673615d4bd3"
      },
      "source": [
        "from time import sleep\n",
        "from sklearn import datasets, neighbors\n",
        "import matplotlib.pyplot as plt\n",
        "#import tensorflow as tf\n",
        "import numpy as np\n",
        "\n",
        "# Load the digits data set\n",
        "digits = datasets.load_digits()\n",
        "\n",
        "# now we'll just show you how to visualize one example digit image, \n",
        "# you may find this useful in debugging code in later notebooks.\n",
        "\n",
        "# Visualize one example digit image \n",
        "plt.gray() \n",
        "\n",
        "# print the intensities of this image\n",
        "print(digits.images[0])\n",
        "\n",
        "# you can also visualize it as an image.\n",
        "# looking at just the first digit image in the dataset\n",
        "plt.matshow(digits.images[0]) \n",
        "plt.show\n",
        "\n",
        "# Extract the input data, force values to be between 0.0 and 1.0\n",
        "X_digits = digits.data / digits.data.max()\n",
        "\n",
        "# X_digits is an array containing multiple arrays. Here each array is a linearized version of the 8x8 matrix (image) corresponding to each digit.\n",
        "# First element of X_digits: \n",
        "X_digits[0]\n",
        "\n",
        "# Extract the \"ground truth\" labels for each sample (each a digit between 0-9)\n",
        "# i.e. the number each image actually represents. \n",
        "# These are the \"labels\" for those training examples.\n",
        "y_digits = digits.target\n"
      ],
      "execution_count": null,
      "outputs": [
        {
          "output_type": "stream",
          "text": [
            "[[ 0.  0.  5. 13.  9.  1.  0.  0.]\n",
            " [ 0.  0. 13. 15. 10. 15.  5.  0.]\n",
            " [ 0.  3. 15.  2.  0. 11.  8.  0.]\n",
            " [ 0.  4. 12.  0.  0.  8.  8.  0.]\n",
            " [ 0.  5.  8.  0.  0.  9.  8.  0.]\n",
            " [ 0.  4. 11.  0.  1. 12.  7.  0.]\n",
            " [ 0.  2. 14.  5. 10. 12.  0.  0.]\n",
            " [ 0.  0.  6. 13. 10.  0.  0.  0.]]\n"
          ],
          "name": "stdout"
        },
        {
          "output_type": "display_data",
          "data": {
            "text/plain": [
              "<Figure size 432x288 with 0 Axes>"
            ]
          },
          "metadata": {
            "tags": []
          }
        },
        {
          "output_type": "display_data",
          "data": {
            "image/png": "[encoded data removed]",
            "text/plain": [
              "<Figure size 288x288 with 1 Axes>"
            ]
          },
          "metadata": {
            "tags": [],
            "needs_background": "light"
          }
        }
      ]
    },
    {
      "cell_type": "markdown",
      "metadata": {
        "id": "R0MygxDdxlzn",
        "colab_type": "text"
      },
      "source": [
        "# New Section"
      ]
    },
    {
      "cell_type": "markdown",
      "metadata": {
        "colab_type": "text",
        "id": "wwJGmDrQ0EoB"
      },
      "source": [
        "## Reshaping the arrays to add more features\n",
        "\n",
        "OK, now suppose you are going to create some new features for these images.  This is a tricky thing because first you have to reshape the feature arrays to include more room for features. We'll add 8 features for ease. See if you're able to add a row of features at the bottom of each image array."
      ]
    },
    {
      "cell_type": "code",
      "metadata": {
        "id": "-0JpUnylG3ra",
        "colab_type": "code",
        "colab": {
          "base_uri": "https://localhost:8080/",
          "height": 354
        },
        "outputId": "0c2db838-a8e8-4161-c22a-75721b183688"
      },
      "source": [
        "# Load the digits data setdigits = datasets.load_digits()\n",
        "# now we'll just show you how to visualize one example digit image, # you may find this useful in debugging code in later notebooks.\n",
        "# Visualize one example digit image plt.gray() \n",
        "# print the intensities of this imageprint(digits.images[0])\n",
        "# you can also visualize it as an image.plt.matshow(digits.images[0])plt.show\n",
        "#The number of examples is\n",
        "X_digits.shape[0]\n",
        "#The number of features is\n",
        "X_digits.shape[1]\n",
        "#reshaping the training data to include more features.\n",
        "print(digits.images.shape)\n",
        "#print(digits.data.shape)\n",
        "digitDataNew=digits.data\n",
        "#print(digitDataNew.shape[1])\n",
        "#print(digitDataNew[1])\n",
        "result=np.pad(digitDataNew,((0,0),(0,8)),mode='constant',constant_values=0)\n",
        "#print(result.shape)\n",
        "#print(result[1])\n",
        "result2=np.reshape(result,(result.shape[0],9,8))\n",
        "print(result2.shape)\n",
        "plt.matshow(result2[0])\n",
        "plt.show"
      ],
      "execution_count": null,
      "outputs": [
        {
          "output_type": "stream",
          "text": [
            "(1797, 8, 8)\n",
            "(1797, 9, 8)\n"
          ],
          "name": "stdout"
        },
        {
          "output_type": "execute_result",
          "data": {
            "text/plain": [
              "<function matplotlib.pyplot.show>"
            ]
          },
          "metadata": {
            "tags": []
          },
          "execution_count": 18
        },
        {
          "output_type": "display_data",
          "data": {
            "image/png": "[encoded data removed]",
            "text/plain": [
              "<Figure size 288x324 with 1 Axes>"
            ]
          },
          "metadata": {
            "tags": [],
            "needs_background": "light"
          }
        }
      ]
    },
    {
      "cell_type": "markdown",
      "metadata": {
        "id": "DkTd9bz-JEDZ",
        "colab_type": "text"
      },
      "source": [
        "Finally, please add a feature to each of the images based on the image values. In lecture we talked about a bunch of different possible features for images. Here you get to implement them. The best feature engineering will give you the best model!"
      ]
    },
    {
      "cell_type": "code",
      "metadata": {
        "colab_type": "code",
        "id": "kQFAr_xo0M4T",
        "colab": {}
      },
      "source": [
        "# here you are out on your own. Make sure you add those values to each image in the array"
      ],
      "execution_count": null,
      "outputs": []
    },
    {
      "cell_type": "markdown",
      "metadata": {
        "colab_type": "text",
        "id": "KhjZjZ-c0Ok9"
      },
      "source": [
        "## NOW you get to really compete the best model you want to produce. You are allowed to use any tool in sklearn that you wish to use.\n"
      ]
    },
    {
      "cell_type": "markdown",
      "metadata": {
        "colab_type": "text",
        "id": "5QyOUhFw1OUX"
      },
      "source": [
        "## Providing the Data\n",
        "\n",
        "Decide how you might select the training data"
      ]
    },
    {
      "cell_type": "code",
      "metadata": {
        "colab_type": "code",
        "id": "4Dxk4q-jzEy4",
        "colab": {}
      },
      "source": [
        "# Data import and manipulation already happened above. \n",
        "# Now you get to select what you wish to do for training.\n"
      ],
      "execution_count": null,
      "outputs": []
    },
    {
      "cell_type": "markdown",
      "metadata": {
        "colab_type": "text",
        "id": "n_YcWRElnM_b"
      },
      "source": [
        "# Training and Testing the model"
      ]
    },
    {
      "cell_type": "markdown",
      "metadata": {
        "colab_type": "text",
        "id": "c-Jk4dG91dvD"
      },
      "source": [
        "The process of training the model, where it 'learns' the relationship between the Xs and Ys. This is where, depending on what algorithm you choose to use, it will go through the loop we spoke about above, making a guess, measuring how good or bad it is (aka the loss)."
      ]
    },
    {
      "cell_type": "code",
      "metadata": {
        "colab_type": "code",
        "id": "lpRrl7WK10Pq",
        "colab": {}
      },
      "source": [
        "# put your training model here.\n",
        "\n",
        "# now decide on what you are going to use for testing\n",
        "# we will give it a different set, potentially, when we run it on the robot.\n",
        "\n",
        "\n",
        "\n",
        "#put your test here.\n",
        "\n"
      ],
      "execution_count": null,
      "outputs": []
    },
    {
      "cell_type": "markdown",
      "metadata": {
        "colab_type": "text",
        "id": "kaFIr71H2OZ-"
      },
      "source": [
        "Ok, now you have a model that has been trained to learn the relationship between X and Y. Show us what call is needed to figure out the Y for a previously unknown X. So, for example, if X = 10, what do you think Y will be? "
      ]
    }
  ]
}