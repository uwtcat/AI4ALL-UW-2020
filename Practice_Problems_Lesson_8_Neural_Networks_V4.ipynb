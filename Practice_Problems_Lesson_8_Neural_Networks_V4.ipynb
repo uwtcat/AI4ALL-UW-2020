{
  "nbformat": 4,
  "nbformat_minor": 0,
  "metadata": {
    "colab": {
      "name": "Practice Problems Lesson 8 Neural Networks V4.ipynb",
      "provenance": [],
      "collapsed_sections": []
    },
    "kernelspec": {
      "display_name": "Python 3",
      "language": "python",
      "name": "python3"
    },
    "language_info": {
      "codemirror_mode": {
        "name": "ipython",
        "version": 3
      },
      "file_extension": ".py",
      "mimetype": "text/x-python",
      "name": "python",
      "nbconvert_exporter": "python",
      "pygments_lexer": "ipython3",
      "version": "3.7.6"
    }
  },
  "cells": [
    {
      "cell_type": "markdown",
      "metadata": {
        "colab_type": "text",
        "id": "LOeLiXAfUc7g"
      },
      "source": [
        "# Practice Problems\n",
        "## Lesson 8: Neural Networks\n",
        "---\n",
        "Created by Terron Ishihara.  Modified for University of Washington, AI4All, 2020\n",
        "\n"
      ]
    },
    {
      "cell_type": "markdown",
      "metadata": {
        "colab_type": "text",
        "id": "mggjIxKJUgiZ"
      },
      "source": [
        "## Problem \n",
        "\n",
        "Let's explore neural networks using scikit-learn's Multi-layer Perceptron (basically another name for a neural net). Naturally, we will use the MNIST hand-written digits dataset, which is essentially the \"hello world\" example for neural network classification.\n",
        "\n",
        "> Start by importing the dataset and necessary Python libraries. This may take a little while since the dataset is a little larger than the ones we've used in past problems.  \n",
        "\n",
        "#### You must run this script before running any of the other scripts in this notebook"
      ]
    },
    {
      "cell_type": "code",
      "metadata": {
        "colab_type": "code",
        "id": "dXSQNTytZSi9",
        "colab": {
          "base_uri": "https://localhost:8080/",
          "height": 34
        },
        "outputId": "d02716dd-a137-4781-c818-a94b40212a6a"
      },
      "source": [
        "import matplotlib.pyplot as plt    # charting library\n",
        "import numpy as np                 # Python array library\n",
        "import pandas as pd                # Pandas dataframe library\n",
        "import joblib                      # for importing and storing classifier libraries\n",
        "import datetime                    # for timing the build\n",
        "\n",
        "# Logic to run this notebook on Google Colab.   Prior to running this notebook,\n",
        "# Create a \"\\neural\" folder under \"\\Colab Notebooks\" and upload all support files up there.\n",
        "# If run from from local Jupyter install, comment out drive commands and make FILEROOT an empty string.\n",
        " \n",
        "from google.colab import drive\n",
        "drive.mount(\"/drive\", force_remount=True)\n",
        "FILEROOT = \"/drive/My Drive/Colab Notebooks/neural/\"\n",
        "\n",
        "from sklearn.model_selection import train_test_split\n",
        "from sklearn.datasets import fetch_openml\n",
        "\n",
        "X, y = fetch_openml('mnist_784', version=1, return_X_y=True)\n",
        "X = X / X.max()\n",
        "\n",
        "# Partition the dataset into training and test sets\n",
        "X_train, X_test, y_train, y_test = train_test_split(X, y)"
      ],
      "execution_count": 18,
      "outputs": [
        {
          "output_type": "stream",
          "text": [
            "Mounted at /drive\n"
          ],
          "name": "stdout"
        }
      ]
    },
    {
      "cell_type": "markdown",
      "metadata": {
        "colab_type": "text",
        "id": "tixhW2hudJSV"
      },
      "source": [
        "### Image display functions\n",
        "\n",
        "> display_array_as_image takes an 784 grey scale values as dissplays them as a grid.  Each data point is a 28x28 matrix of grayscale values between 0 and 1. Let's visualize this by plotting these values. Feel free to change the index into X to see what other digits are in the dataset.\n",
        "\n",
        "> convert_image_to__grey_list takes a 28 * 28 jpg, png, or gif file and converts it to a Python list of 784 greyscale values with a dark background.  Feel free to create your own 28 * 28 jpg, png, or gif file and see how it works. "
      ]
    },
    {
      "cell_type": "code",
      "metadata": {
        "id": "3kscoX5K2qfH",
        "colab_type": "code",
        "colab": {
          "base_uri": "https://localhost:8080/",
          "height": 567
        },
        "outputId": "19f75bc3-e856-46b9-a994-75b46134b7d4"
      },
      "source": [
        "def display_array_as_image(image_array):\n",
        "    plt.gray() \n",
        "    # Since each data point is stored in a list of 784 values, we have\n",
        "    # to reshape the list into a 28x28 array.\n",
        "    digit = image_array.reshape(28,28)\n",
        "    plt.matshow(digit)\n",
        "    plt.show()\n",
        "    \n",
        "def convert_image_to_grey_list(filename):\n",
        "    \n",
        "    digitpic = plt.imread(filename)\n",
        "    # check if image is the correct size\n",
        "    if (len(digitpic) != 28 or len(digitpic[0]) != 28):\n",
        "        raise ValueError(\"Image must be 28  * 28\")\n",
        "        \n",
        "    digitpic = digitpic/digitpic.max()\n",
        "    piclist = []\n",
        "    for i in range(28):          # hardcoding lengths since must be 28 * 28 \n",
        "        for j in range(28):\n",
        "            pixel = digitpic[i][j]\n",
        "            piclist.append((pixel[0]+pixel[1]+pixel[2])/3)\n",
        "            \n",
        "    if (sum(piclist) / len(piclist) > 0.5):   # if image is dark on light, then switch\n",
        "            for i in range(len(piclist)):\n",
        "                piclist[i] = 1 - piclist[i]\n",
        "        \n",
        "    return piclist \n",
        "  \n",
        "# Test these functions   \n",
        "display_array_as_image(X[0])                   # takes one of the training images and displays\n",
        "testImg = np.array(convert_image_to_grey_list(FILEROOT + \"test3.png\"))   # takes a file and converts it to a 784 greyscale list\n",
        "display_array_as_image(testImg)                # display greyscale array"
      ],
      "execution_count": 19,
      "outputs": [
        {
          "output_type": "display_data",
          "data": {
            "text/plain": [
              "<Figure size 432x288 with 0 Axes>"
            ]
          },
          "metadata": {
            "tags": []
          }
        },
        {
          "output_type": "display_data",
          "data": {
            "image/png": "[encoded data removed]",
            "text/plain": [
              "<Figure size 288x288 with 1 Axes>"
            ]
          },
          "metadata": {
            "tags": [],
            "needs_background": "light"
          }
        },
        {
          "output_type": "display_data",
          "data": {
            "text/plain": [
              "<Figure size 432x288 with 0 Axes>"
            ]
          },
          "metadata": {
            "tags": []
          }
        },
        {
          "output_type": "display_data",
          "data": {
            "image/png": "[encoded data removed]",
            "text/plain": [
              "<Figure size 288x288 with 1 Axes>"
            ]
          },
          "metadata": {
            "tags": [],
            "needs_background": "light"
          }
        }
      ]
    },
    {
      "cell_type": "markdown",
      "metadata": {
        "id": "06EoDvQJ2qfM",
        "colab_type": "text"
      },
      "source": [
        "### Loading an MLP Model and displaying its accuracy\n",
        "\n",
        "> The following code loads an already created model into the variable joblib_model. The model file is in the same folder as the Jupyter notebook.  Please see folder for other models you can load. \n",
        "> After loading the model, the predicted values for both the training set and test set are calculated and stored."
      ]
    },
    {
      "cell_type": "code",
      "metadata": {
        "id": "dQENI6al2qfN",
        "colab_type": "code",
        "colab": {
          "base_uri": "https://localhost:8080/",
          "height": 156
        },
        "outputId": "689b1030-3d9a-4d84-8966-56b659802856"
      },
      "source": [
        "# Load from file\n",
        "mnist_file = \"mnist_model_0708.pkl\"\n",
        "joblib_model = joblib.load(FILEROOT + mnist_file)\n",
        "\n",
        "# calculate predicted values for both training data and test date\n",
        "print (datetime.datetime.now())\n",
        "y_train_predict = joblib_model.predict(X_train)\n",
        "y_test_predict = joblib_model.predict(X_test)\n",
        "\n",
        "# display how accurate model is on test data\n",
        "score = joblib_model.score(X_test, y_test)\n",
        "print (score)\n",
        "print (datetime.datetime.now())"
      ],
      "execution_count": 20,
      "outputs": [
        {
          "output_type": "stream",
          "text": [
            "/usr/local/lib/python3.6/dist-packages/sklearn/base.py:318: UserWarning: Trying to unpickle estimator LabelBinarizer from version 0.22.1 when using version 0.22.2.post1. This might lead to breaking code or invalid results. Use at your own risk.\n",
            "  UserWarning)\n",
            "/usr/local/lib/python3.6/dist-packages/sklearn/base.py:318: UserWarning: Trying to unpickle estimator MLPClassifier from version 0.22.1 when using version 0.22.2.post1. This might lead to breaking code or invalid results. Use at your own risk.\n",
            "  UserWarning)\n"
          ],
          "name": "stderr"
        },
        {
          "output_type": "stream",
          "text": [
            "2020-07-28 03:59:12.097622\n",
            "0.9932571428571428\n",
            "2020-07-28 03:59:13.217852\n"
          ],
          "name": "stdout"
        }
      ]
    },
    {
      "cell_type": "markdown",
      "metadata": {
        "id": "c9-jfnA92qfP",
        "colab_type": "text"
      },
      "source": [
        "### Display how loaded MLP Model predicts a particular image\n",
        "\n",
        "> Using the functions described above, the following code shows to display either a file or a particular training or test image and and then show the prediction made by the model for that image. "
      ]
    },
    {
      "cell_type": "code",
      "metadata": {
        "id": "o8etoO6a2qfQ",
        "colab_type": "code",
        "colab": {
          "base_uri": "https://localhost:8080/",
          "height": 601
        },
        "outputId": "63f658c5-2a1d-4cb7-8aa8-3adb4f787f92"
      },
      "source": [
        "\n",
        "testImg = np.array(convert_image_to_grey_list(FILEROOT + \"test.jpg\"))   # takes a file and converts it to a 784 greyscale list\n",
        "display_array_as_image(testImg) \n",
        "print (joblib_model.predict(np.reshape(testImg,(-1,784)))) #print out prediction after converting image to format required by model\n",
        "\n",
        "\n",
        "testImg = X[5]                                           # takes either a training or test image\n",
        "display_array_as_image(testImg)\n",
        "print (joblib_model.predict(np.reshape(testImg,(-1,784)))) #print out prediction after converting image to format required by model\n",
        "\n"
      ],
      "execution_count": 21,
      "outputs": [
        {
          "output_type": "display_data",
          "data": {
            "text/plain": [
              "<Figure size 432x288 with 0 Axes>"
            ]
          },
          "metadata": {
            "tags": []
          }
        },
        {
          "output_type": "display_data",
          "data": {
            "image/png": "[encoded data removed]",
            "text/plain": [
              "<Figure size 288x288 with 1 Axes>"
            ]
          },
          "metadata": {
            "tags": [],
            "needs_background": "light"
          }
        },
        {
          "output_type": "stream",
          "text": [
            "['9']\n"
          ],
          "name": "stdout"
        },
        {
          "output_type": "display_data",
          "data": {
            "text/plain": [
              "<Figure size 432x288 with 0 Axes>"
            ]
          },
          "metadata": {
            "tags": []
          }
        },
        {
          "output_type": "display_data",
          "data": {
            "image/png": "[encoded data removed]",
            "text/plain": [
              "<Figure size 288x288 with 1 Axes>"
            ]
          },
          "metadata": {
            "tags": [],
            "needs_background": "light"
          }
        },
        {
          "output_type": "stream",
          "text": [
            "['2']\n"
          ],
          "name": "stdout"
        }
      ]
    },
    {
      "cell_type": "markdown",
      "metadata": {
        "id": "PSby9tt12qfU",
        "colab_type": "text"
      },
      "source": [
        "### Analyzing Accuracy Results (Step 1: Dataframe Creation)\n",
        "\n",
        "> The following code shows how to create a dataframe that maps the actual values of the test set vs the predicted values for further analysis. "
      ]
    },
    {
      "cell_type": "code",
      "metadata": {
        "id": "YnhpxD4P2qfV",
        "colab_type": "code",
        "colab": {}
      },
      "source": [
        "test_results = pd.DataFrame(columns=(\"actual\",\"predict\",\"count\"))\n",
        "test_results[\"actual\"] = y_test\n",
        "test_results[\"predict\"] = y_test_predict\n",
        "test_results[\"count\"] = 1"
      ],
      "execution_count": 22,
      "outputs": []
    },
    {
      "cell_type": "markdown",
      "metadata": {
        "id": "VRAnF0_M2qfY",
        "colab_type": "text"
      },
      "source": [
        "### Analyzing Accuracy Results (Step 2: Analyze Accuracy by Cluster)\n",
        "> The following code shows how to create a dataframe that shows the number of times the model gets each actual number correct/incorrect and the correct percentage for each actual number.  "
      ]
    },
    {
      "cell_type": "code",
      "metadata": {
        "id": "SZAocnDI2qfZ",
        "colab_type": "code",
        "colab": {
          "base_uri": "https://localhost:8080/",
          "height": 359
        },
        "outputId": "77094f77-f668-4607-d796-a566ca6b8919"
      },
      "source": [
        "# Shows how well each digit is analyzed\n",
        "clf_byclass = pd.DataFrame(columns=(\"actual\",\"correct\",\"incorrect\"))\n",
        "clf_byclass[\"actual\"] = range(10)\n",
        "clf_byclass[\"correct\"] = 0\n",
        "clf_byclass[\"incorrect\"] = 0\n",
        "clf_byclass.set_index(\"actual\")\n",
        "\n",
        "for row in test_results.itertuples():\n",
        "    r1 = int(row[1])\n",
        "    r2 = int(row[2])\n",
        "    if r1 == r2:\n",
        "        clf_byclass.loc[r1,\"correct\"] = clf_byclass.loc[r1,\"correct\"] + 1\n",
        "    else:\n",
        "         clf_byclass.loc[r1,\"incorrect\"] =  clf_byclass.loc[r1,\"incorrect\"] + 1\n",
        " \n",
        "  \n",
        "clf_byclass[\"pct\"] = clf_byclass[\"correct\"] / (clf_byclass[\"correct\"] + clf_byclass[\"incorrect\"])\n",
        "clf_byclass"
      ],
      "execution_count": 23,
      "outputs": [
        {
          "output_type": "execute_result",
          "data": {
            "text/html": [
              "<div>\n",
              "<style scoped>\n",
              "    .dataframe tbody tr th:only-of-type {\n",
              "        vertical-align: middle;\n",
              "    }\n",
              "\n",
              "    .dataframe tbody tr th {\n",
              "        vertical-align: top;\n",
              "    }\n",
              "\n",
              "    .dataframe thead th {\n",
              "        text-align: right;\n",
              "    }\n",
              "</style>\n",
              "<table border=\"1\" class=\"dataframe\">\n",
              "  <thead>\n",
              "    <tr style=\"text-align: right;\">\n",
              "      <th></th>\n",
              "      <th>actual</th>\n",
              "      <th>correct</th>\n",
              "      <th>incorrect</th>\n",
              "      <th>pct</th>\n",
              "    </tr>\n",
              "  </thead>\n",
              "  <tbody>\n",
              "    <tr>\n",
              "      <th>0</th>\n",
              "      <td>0</td>\n",
              "      <td>1726</td>\n",
              "      <td>9</td>\n",
              "      <td>0.994813</td>\n",
              "    </tr>\n",
              "    <tr>\n",
              "      <th>1</th>\n",
              "      <td>1</td>\n",
              "      <td>1999</td>\n",
              "      <td>10</td>\n",
              "      <td>0.995022</td>\n",
              "    </tr>\n",
              "    <tr>\n",
              "      <th>2</th>\n",
              "      <td>2</td>\n",
              "      <td>1738</td>\n",
              "      <td>14</td>\n",
              "      <td>0.992009</td>\n",
              "    </tr>\n",
              "    <tr>\n",
              "      <th>3</th>\n",
              "      <td>3</td>\n",
              "      <td>1713</td>\n",
              "      <td>19</td>\n",
              "      <td>0.989030</td>\n",
              "    </tr>\n",
              "    <tr>\n",
              "      <th>4</th>\n",
              "      <td>4</td>\n",
              "      <td>1642</td>\n",
              "      <td>10</td>\n",
              "      <td>0.993947</td>\n",
              "    </tr>\n",
              "    <tr>\n",
              "      <th>5</th>\n",
              "      <td>5</td>\n",
              "      <td>1589</td>\n",
              "      <td>7</td>\n",
              "      <td>0.995614</td>\n",
              "    </tr>\n",
              "    <tr>\n",
              "      <th>6</th>\n",
              "      <td>6</td>\n",
              "      <td>1746</td>\n",
              "      <td>7</td>\n",
              "      <td>0.996007</td>\n",
              "    </tr>\n",
              "    <tr>\n",
              "      <th>7</th>\n",
              "      <td>7</td>\n",
              "      <td>1860</td>\n",
              "      <td>15</td>\n",
              "      <td>0.992000</td>\n",
              "    </tr>\n",
              "    <tr>\n",
              "      <th>8</th>\n",
              "      <td>8</td>\n",
              "      <td>1676</td>\n",
              "      <td>15</td>\n",
              "      <td>0.991130</td>\n",
              "    </tr>\n",
              "    <tr>\n",
              "      <th>9</th>\n",
              "      <td>9</td>\n",
              "      <td>1693</td>\n",
              "      <td>12</td>\n",
              "      <td>0.992962</td>\n",
              "    </tr>\n",
              "  </tbody>\n",
              "</table>\n",
              "</div>"
            ],
            "text/plain": [
              "   actual  correct  incorrect       pct\n",
              "0       0     1726          9  0.994813\n",
              "1       1     1999         10  0.995022\n",
              "2       2     1738         14  0.992009\n",
              "3       3     1713         19  0.989030\n",
              "4       4     1642         10  0.993947\n",
              "5       5     1589          7  0.995614\n",
              "6       6     1746          7  0.996007\n",
              "7       7     1860         15  0.992000\n",
              "8       8     1676         15  0.991130\n",
              "9       9     1693         12  0.992962"
            ]
          },
          "metadata": {
            "tags": []
          },
          "execution_count": 23
        }
      ]
    },
    {
      "cell_type": "markdown",
      "metadata": {
        "id": "Lc5oJMoG2qfd",
        "colab_type": "text"
      },
      "source": [
        "### Analyzing Accuracy Results (Step 3: Analyze Errors by Cluster)\n",
        "> The following code shows how to create a pivot table that shows the number of errors of each type occured for each actual value"
      ]
    },
    {
      "cell_type": "code",
      "metadata": {
        "id": "3pStpbb72qfe",
        "colab_type": "code",
        "colab": {
          "base_uri": "https://localhost:8080/",
          "height": 421
        },
        "outputId": "c566cea4-31fe-431b-f2d9-1cbbaa99f909"
      },
      "source": [
        "test_error = test_results[test_results[\"predict\"]!=test_results[\"actual\"]]  # get only errors\n",
        "test_error_pivot = pd.pivot_table(test_error, values=['count'], index=['actual'],columns=['predict'], aggfunc=np.sum) #create pivot table\n",
        "test_error_pivot"
      ],
      "execution_count": 24,
      "outputs": [
        {
          "output_type": "execute_result",
          "data": {
            "text/html": [
              "<div>\n",
              "<style scoped>\n",
              "    .dataframe tbody tr th:only-of-type {\n",
              "        vertical-align: middle;\n",
              "    }\n",
              "\n",
              "    .dataframe tbody tr th {\n",
              "        vertical-align: top;\n",
              "    }\n",
              "\n",
              "    .dataframe thead tr th {\n",
              "        text-align: left;\n",
              "    }\n",
              "\n",
              "    .dataframe thead tr:last-of-type th {\n",
              "        text-align: right;\n",
              "    }\n",
              "</style>\n",
              "<table border=\"1\" class=\"dataframe\">\n",
              "  <thead>\n",
              "    <tr>\n",
              "      <th></th>\n",
              "      <th colspan=\"10\" halign=\"left\">count</th>\n",
              "    </tr>\n",
              "    <tr>\n",
              "      <th>predict</th>\n",
              "      <th>0</th>\n",
              "      <th>1</th>\n",
              "      <th>2</th>\n",
              "      <th>3</th>\n",
              "      <th>4</th>\n",
              "      <th>5</th>\n",
              "      <th>6</th>\n",
              "      <th>7</th>\n",
              "      <th>8</th>\n",
              "      <th>9</th>\n",
              "    </tr>\n",
              "    <tr>\n",
              "      <th>actual</th>\n",
              "      <th></th>\n",
              "      <th></th>\n",
              "      <th></th>\n",
              "      <th></th>\n",
              "      <th></th>\n",
              "      <th></th>\n",
              "      <th></th>\n",
              "      <th></th>\n",
              "      <th></th>\n",
              "      <th></th>\n",
              "    </tr>\n",
              "  </thead>\n",
              "  <tbody>\n",
              "    <tr>\n",
              "      <th>0</th>\n",
              "      <td>NaN</td>\n",
              "      <td>NaN</td>\n",
              "      <td>1.0</td>\n",
              "      <td>1.0</td>\n",
              "      <td>NaN</td>\n",
              "      <td>3.0</td>\n",
              "      <td>2.0</td>\n",
              "      <td>NaN</td>\n",
              "      <td>1.0</td>\n",
              "      <td>1.0</td>\n",
              "    </tr>\n",
              "    <tr>\n",
              "      <th>1</th>\n",
              "      <td>NaN</td>\n",
              "      <td>NaN</td>\n",
              "      <td>2.0</td>\n",
              "      <td>3.0</td>\n",
              "      <td>2.0</td>\n",
              "      <td>NaN</td>\n",
              "      <td>NaN</td>\n",
              "      <td>2.0</td>\n",
              "      <td>NaN</td>\n",
              "      <td>1.0</td>\n",
              "    </tr>\n",
              "    <tr>\n",
              "      <th>2</th>\n",
              "      <td>NaN</td>\n",
              "      <td>2.0</td>\n",
              "      <td>NaN</td>\n",
              "      <td>3.0</td>\n",
              "      <td>1.0</td>\n",
              "      <td>1.0</td>\n",
              "      <td>1.0</td>\n",
              "      <td>3.0</td>\n",
              "      <td>3.0</td>\n",
              "      <td>NaN</td>\n",
              "    </tr>\n",
              "    <tr>\n",
              "      <th>3</th>\n",
              "      <td>1.0</td>\n",
              "      <td>NaN</td>\n",
              "      <td>2.0</td>\n",
              "      <td>NaN</td>\n",
              "      <td>NaN</td>\n",
              "      <td>4.0</td>\n",
              "      <td>1.0</td>\n",
              "      <td>2.0</td>\n",
              "      <td>7.0</td>\n",
              "      <td>2.0</td>\n",
              "    </tr>\n",
              "    <tr>\n",
              "      <th>4</th>\n",
              "      <td>NaN</td>\n",
              "      <td>1.0</td>\n",
              "      <td>NaN</td>\n",
              "      <td>NaN</td>\n",
              "      <td>NaN</td>\n",
              "      <td>NaN</td>\n",
              "      <td>1.0</td>\n",
              "      <td>1.0</td>\n",
              "      <td>1.0</td>\n",
              "      <td>6.0</td>\n",
              "    </tr>\n",
              "    <tr>\n",
              "      <th>5</th>\n",
              "      <td>NaN</td>\n",
              "      <td>NaN</td>\n",
              "      <td>1.0</td>\n",
              "      <td>1.0</td>\n",
              "      <td>NaN</td>\n",
              "      <td>NaN</td>\n",
              "      <td>3.0</td>\n",
              "      <td>NaN</td>\n",
              "      <td>2.0</td>\n",
              "      <td>NaN</td>\n",
              "    </tr>\n",
              "    <tr>\n",
              "      <th>6</th>\n",
              "      <td>1.0</td>\n",
              "      <td>NaN</td>\n",
              "      <td>NaN</td>\n",
              "      <td>NaN</td>\n",
              "      <td>2.0</td>\n",
              "      <td>2.0</td>\n",
              "      <td>NaN</td>\n",
              "      <td>NaN</td>\n",
              "      <td>2.0</td>\n",
              "      <td>NaN</td>\n",
              "    </tr>\n",
              "    <tr>\n",
              "      <th>7</th>\n",
              "      <td>1.0</td>\n",
              "      <td>1.0</td>\n",
              "      <td>4.0</td>\n",
              "      <td>NaN</td>\n",
              "      <td>2.0</td>\n",
              "      <td>1.0</td>\n",
              "      <td>NaN</td>\n",
              "      <td>NaN</td>\n",
              "      <td>2.0</td>\n",
              "      <td>4.0</td>\n",
              "    </tr>\n",
              "    <tr>\n",
              "      <th>8</th>\n",
              "      <td>2.0</td>\n",
              "      <td>1.0</td>\n",
              "      <td>2.0</td>\n",
              "      <td>2.0</td>\n",
              "      <td>2.0</td>\n",
              "      <td>1.0</td>\n",
              "      <td>4.0</td>\n",
              "      <td>NaN</td>\n",
              "      <td>NaN</td>\n",
              "      <td>1.0</td>\n",
              "    </tr>\n",
              "    <tr>\n",
              "      <th>9</th>\n",
              "      <td>1.0</td>\n",
              "      <td>NaN</td>\n",
              "      <td>NaN</td>\n",
              "      <td>2.0</td>\n",
              "      <td>2.0</td>\n",
              "      <td>3.0</td>\n",
              "      <td>NaN</td>\n",
              "      <td>3.0</td>\n",
              "      <td>1.0</td>\n",
              "      <td>NaN</td>\n",
              "    </tr>\n",
              "  </tbody>\n",
              "</table>\n",
              "</div>"
            ],
            "text/plain": [
              "        count                                             \n",
              "predict     0    1    2    3    4    5    6    7    8    9\n",
              "actual                                                    \n",
              "0         NaN  NaN  1.0  1.0  NaN  3.0  2.0  NaN  1.0  1.0\n",
              "1         NaN  NaN  2.0  3.0  2.0  NaN  NaN  2.0  NaN  1.0\n",
              "2         NaN  2.0  NaN  3.0  1.0  1.0  1.0  3.0  3.0  NaN\n",
              "3         1.0  NaN  2.0  NaN  NaN  4.0  1.0  2.0  7.0  2.0\n",
              "4         NaN  1.0  NaN  NaN  NaN  NaN  1.0  1.0  1.0  6.0\n",
              "5         NaN  NaN  1.0  1.0  NaN  NaN  3.0  NaN  2.0  NaN\n",
              "6         1.0  NaN  NaN  NaN  2.0  2.0  NaN  NaN  2.0  NaN\n",
              "7         1.0  1.0  4.0  NaN  2.0  1.0  NaN  NaN  2.0  4.0\n",
              "8         2.0  1.0  2.0  2.0  2.0  1.0  4.0  NaN  NaN  1.0\n",
              "9         1.0  NaN  NaN  2.0  2.0  3.0  NaN  3.0  1.0  NaN"
            ]
          },
          "metadata": {
            "tags": []
          },
          "execution_count": 24
        }
      ]
    },
    {
      "cell_type": "markdown",
      "metadata": {
        "colab_type": "text",
        "id": "R5Lazd03d5ee"
      },
      "source": [
        "### Build Your Own Classifier\n",
        "\n",
        "> After you have investigated how well the classifier may work, you can try initializing and building your own classifier, training it, and observe how well the classifier works on our test set. \n",
        "\n",
        "> The `hidden_layer_sizes` parameter accepts a tuple that specifies the number of hidden layers and the number of neurons per layer. The `solver` parameter specifies that we'll use Stochastic Gradient Descent.\n",
        "\n",
        "> * `hidden_layer_sizes`: The number of hidden layers and number of neurons per layer. For example, the tuple (64, 32, 16) represents 3 hidden layers, with 64, 32, and 16 neurons, respectively.\n",
        "> * `solver`: The solver for weight optimization. We learned about Stochastic Gradient Descent, so we use that here.\n",
        "> * `activation`: The activation function for the hidden layers. Possible values are `'identity'`, `'logistic'`, `'tanh'`, and `'relu'`.\n",
        "> * `max_iter`: The maximum number of iterations (updates) to perform. Ideally, the weights will converge, meaning the updates hardly change the weights. Keeping this value low will prevent the code from taking a long time (but may sacrifice accuracy).\n",
        "\n",
        "> The setup provided below is not very accurate at predicting on the test set. Go ahead and run the code to see the resulting score. \n",
        "\n",
        "> Try changing the parameters for the classifier and see how it affects the score. (`solver` needn't be changed since stochastic gradient descent is the only solver we learned about.) For example, which activation function that we mentioned in the lesson may be very effective?\n",
        "\n",
        "> Note that the code also saves the model created to a file so that it can be further analyzed using the code above.   For each new classifier that you want to save. either change the name of the model file in the code below or change it in the file system after the model has been saved. "
      ]
    },
    {
      "cell_type": "code",
      "metadata": {
        "colab_type": "code",
        "id": "muzgZTffeAEO",
        "colab": {
          "base_uri": "https://localhost:8080/",
          "height": 139
        },
        "outputId": "1df833fa-c6ca-4740-b950-108b925dc4f6"
      },
      "source": [
        "from sklearn.neural_network import MLPClassifier\n",
        "\n",
        "\n",
        "# Initialize the classifier.   Note that this original attempt did not run\n",
        "# This takes a long time to run but does work\n",
        "\n",
        "print (datetime.datetime.now())\n",
        "mlp_clf = MLPClassifier(\n",
        "    hidden_layer_sizes=(64,32), \n",
        "    solver='sgd', \n",
        "    activation='logistic',\n",
        "    max_iter=100\n",
        ")\n",
        "\n",
        "# Train the classifier\n",
        "mlp_clf.fit(X_train, y_train)\n",
        "\n",
        "print (datetime.datetime.now())\n",
        "\n",
        "# Save the model file in the current working directory.   Change the file name for each iteration\n",
        "mnist_file = FILEROOT + \"mnist_model_zzzz.pkl\"\n",
        "joblib.dump(mlp_clf, mnist_file)\n",
        "\n",
        "# Get the mean accuracy on the test data and print it\n",
        "score = mlp_clf.score(X_test, y_test)\n",
        "print (score)\n",
        "\n",
        "print (datetime.datetime.now())"
      ],
      "execution_count": 25,
      "outputs": [
        {
          "output_type": "stream",
          "text": [
            "2020-07-28 03:59:18.607494\n"
          ],
          "name": "stdout"
        },
        {
          "output_type": "stream",
          "text": [
            "/usr/local/lib/python3.6/dist-packages/sklearn/neural_network/_multilayer_perceptron.py:571: ConvergenceWarning: Stochastic Optimizer: Maximum iterations (100) reached and the optimization hasn't converged yet.\n",
            "  % self.max_iter, ConvergenceWarning)\n"
          ],
          "name": "stderr"
        },
        {
          "output_type": "stream",
          "text": [
            "2020-07-28 04:01:34.751805\n",
            "0.8772\n",
            "2020-07-28 04:01:34.981067\n"
          ],
          "name": "stdout"
        }
      ]
    }
  ]
}