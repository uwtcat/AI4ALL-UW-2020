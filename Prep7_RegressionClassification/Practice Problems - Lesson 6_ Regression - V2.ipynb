{
 "cells": [
  {
   "cell_type": "markdown",
   "metadata": {
    "colab_type": "text",
    "id": "wLTp_tYi8O2t"
   },
   "source": [
    "# Practice Problems\n",
    "## Lesson 6: Regression\n",
    "---\n",
    "Created by Terron Ishihara, Modified by Univerisity of Washington, AI4All, 2020"
   ]
  },
  {
   "cell_type": "markdown",
   "metadata": {
    "colab_type": "text",
    "id": "scl1uXhWKNnu"
   },
   "source": [
    "# Problem 1\n",
    "\n",
    "Let's explore regression using scikit-learn. We'll use a [dataset on diabetes](https://scikit-learn.org/stable/modules/generated/sklearn.datasets.load_diabetes.html), with 442 samples and 10 different features. We will focus on using a single feature, body mass index. The target values are a quantitative measure of diabetes progression one year after baseline.\n",
    "\n",
    "> To start, we import the models, the dataset, and some extra tools."
   ]
  },
  {
   "cell_type": "code",
   "execution_count": 0,
   "metadata": {
    "colab": {},
    "colab_type": "code",
    "id": "o_g_iWxKLWgK"
   },
   "outputs": [],
   "source": [
    "import numpy as np\n",
    "from sklearn.linear_model import LinearRegression, LogisticRegression\n",
    "from sklearn.model_selection import train_test_split\n",
    "from sklearn.datasets import load_diabetes\n",
    "\n",
    "diabetes = load_diabetes()\n",
    "# Get the data samples and extract the feature at index 2,\n",
    "# which is body mass index\n",
    "X = diabetes.data[:, np.newaxis, 2]\n",
    "y = diabetes.target"
   ]
  },
  {
   "cell_type": "markdown",
   "metadata": {
    "colab_type": "text",
    "id": "kLTHmM3qu0tz"
   },
   "source": [
    "> Now we can split our dataset into training and test sets. The `train_test_split()` method can do this for us. Here we use an 80/20 split. Then we create the regression classifiers, train them on the training set, and evaluate the models on the test set, printing out the mean squared error. "
   ]
  },
  {
   "cell_type": "code",
   "execution_count": 0,
   "metadata": {
    "colab": {},
    "colab_type": "code",
    "id": "QQuzrYj_urRP"
   },
   "outputs": [],
   "source": [
    "# Partition the dataset into train and test\n",
    "X_train, X_test, y_train, y_test = train_test_split(X, y, train_size=0.8)\n",
    "\n",
    "# Instantiate the classifiers\n",
    "lin_clf = LinearRegression()\n",
    "# The parameters here are the default values for LogisticRegression,\n",
    "# included here just to suppress a couple warnings\n",
    "log_clf = LogisticRegression(solver='lbfgs', multi_class='multinomial')\n",
    "\n",
    "# Train the classifiers\n",
    "lin_clf.fit(X_train, y_train)\n",
    "log_clf.fit(X_train, y_train)\n",
    "\n",
    "# Calculate predictions on test set\n",
    "lin_predictions = lin_clf.predict(X_test)\n",
    "log_predictions = log_clf.predict(X_test)"
   ]
  },
  {
   "cell_type": "markdown",
   "metadata": {
    "colab_type": "text",
    "id": "EL_K9_t1vMOc"
   },
   "source": [
    "> To get a better idea of what these models look like, let's plot the models' predictions on top of the test set."
   ]
  },
  {
   "cell_type": "code",
   "execution_count": 0,
   "metadata": {
    "colab": {
     "base_uri": "https://localhost:8080/",
     "height": 283
    },
    "colab_type": "code",
    "executionInfo": {
     "elapsed": 1036,
     "status": "ok",
     "timestamp": 1559687206894,
     "user": {
      "displayName": "Terron Ishihara",
      "photoUrl": "https://lh6.googleusercontent.com/-9woLnfRj-04/AAAAAAAAAAI/AAAAAAAAAQQ/QUL39BadnjA/s64/photo.jpg",
      "userId": "09713116719036350569"
     },
     "user_tz": 360
    },
    "id": "dKnm1BIyYljY",
    "outputId": "faaeabbe-7c71-4b27-db1c-45dc31beb85a"
   },
   "outputs": [
    {
     "data": {
      "image/png": "[encoded data removed]",
      "text/plain": [
       "<Figure size 432x288 with 1 Axes>"
      ]
     },
     "metadata": {
      "tags": []
     },
     "output_type": "display_data"
    }
   ],
   "source": [
    "import matplotlib.pyplot as plt\n",
    "\n",
    "# Plot the dataset points\n",
    "plt.scatter(X_test, y_test, color='black')\n",
    "\n",
    "# Plot the linear regression predictions\n",
    "# 'cs' means cyan is the color, square is the shape\n",
    "plt.plot(X_test, lin_predictions, 'cs')\n",
    "\n",
    "# Plot the logistic regression predictions\n",
    "# 'm^' means magenta is the color, triangle is the shape\n",
    "plt.plot(X_test, log_predictions, 'm^')\n",
    "\n",
    "# Label axes and legend\n",
    "plt.xlabel(\"Body Mass Index\")\n",
    "plt.ylabel(\"Disease progression after one year\")\n",
    "plt.legend(('Linear', 'Logistic'),\n",
    "           loc=\"lower right\", fontsize='small')\n",
    "# Show the plot\n",
    "plt.show()"
   ]
  },
  {
   "cell_type": "markdown",
   "metadata": {
    "colab_type": "text",
    "id": "ySL0pqapwAfp"
   },
   "source": [
    "> Recall the formula for the error function of our linear regression model, as an example: $w_1x+w_0-y$. We take the input, $x$, place it into our linear model, $w_1x+w_0$, and subtract the true value, $y$. A useful measure of how closely our model predicts all the test samples is Mean Squared Error (MSE). We simply square all of our error values, sum those squares, then divide by $N$ to calculate the mean squared error:\n",
    "\n",
    ">> $\\frac{1}{N}\\sum_{i=1}^N (w_1x+w_0-y)^2$\n",
    "\n",
    "> The logistic regression model has the same calculation for MSE, but with the sigmoid function as the model: $\\frac{1}{1+e^{-(w_1x+w_0)}}$.\n",
    "\n",
    "> Given the above plot, which regression classifier do you think has a larger mean squared error? Check your answer by printing out the values below."
   ]
  },
  {
   "cell_type": "code",
   "execution_count": 0,
   "metadata": {
    "colab": {},
    "colab_type": "code",
    "id": "QcQhWFylvnXW"
   },
   "outputs": [],
   "source": [
    "from sklearn.metrics import mean_squared_error\n",
    "\n",
    "lin_mse = mean_squared_error(lin_predictions, y_test)\n",
    "log_mse = mean_squared_error(log_predictions, y_test)"
   ]
  }
 ],
 "metadata": {
  "colab": {
   "collapsed_sections": [],
   "name": "Practice Problems - Lesson 6: Regression.ipynb",
   "provenance": [],
   "version": "0.3.2"
  },
  "kernelspec": {
   "display_name": "Python 3",
   "language": "python",
   "name": "python3"
  },
  "language_info": {
   "codemirror_mode": {
    "name": "ipython",
    "version": 3
   },
   "file_extension": ".py",
   "mimetype": "text/x-python",
   "name": "python",
   "nbconvert_exporter": "python",
   "pygments_lexer": "ipython3",
   "version": "3.7.6"
  }
 },
 "nbformat": 4,
 "nbformat_minor": 1
}
