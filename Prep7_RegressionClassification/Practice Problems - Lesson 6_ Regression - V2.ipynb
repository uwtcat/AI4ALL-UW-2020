{
  "nbformat": 4,
  "nbformat_minor": 0,
  "metadata": {
    "colab": {
      "name": "Practice Problems - Lesson 6: Regression.ipynb",
      "provenance": [],
      "collapsed_sections": []
    },
    "kernelspec": {
      "display_name": "Python 3",
      "language": "python",
      "name": "python3"
    },
    "language_info": {
      "codemirror_mode": {
        "name": "ipython",
        "version": 3
      },
      "file_extension": ".py",
      "mimetype": "text/x-python",
      "name": "python",
      "nbconvert_exporter": "python",
      "pygments_lexer": "ipython3",
      "version": "3.7.6"
    }
  },
  "cells": [
    {
      "cell_type": "markdown",
      "metadata": {
        "colab_type": "text",
        "id": "wLTp_tYi8O2t"
      },
      "source": [
        "# Practice Problems\n",
        "## Lesson 6: Regression\n",
        "---\n",
        "Created by Terron Ishihara, Modified by Univerisity of Washington, AI4All, 2020"
      ]
    },
    {
      "cell_type": "markdown",
      "metadata": {
        "colab_type": "text",
        "id": "scl1uXhWKNnu"
      },
      "source": [
        "# Problem 1\n",
        "\n",
        "Let's explore regression using scikit-learn. We'll use a [dataset on diabetes](https://scikit-learn.org/stable/modules/generated/sklearn.datasets.load_diabetes.html), with 442 samples and 10 different features. We will focus on using a single feature, body mass index. The target values are a quantitative measure of diabetes progression one year after baseline.\n",
        "\n",
        "> To start, we import the models, the dataset, and some extra tools."
      ]
    },
    {
      "cell_type": "code",
      "metadata": {
        "colab_type": "code",
        "id": "o_g_iWxKLWgK",
        "colab": {}
      },
      "source": [
        "import numpy as np\n",
        "import matplotlib.pyplot as plt\n",
        "from sklearn.linear_model import LinearRegression, LogisticRegression\n",
        "from sklearn.model_selection import train_test_split\n",
        "from sklearn.datasets import load_diabetes\n",
        "from sklearn.metrics import mean_squared_error\n",
        "import pandas as pd\n",
        "import time\n",
        "\n",
        "diabetes = load_diabetes()\n",
        "# Get the data samples and extract the feature at index 2,\n",
        "# which is body mass index\n",
        "X = diabetes.data[:, np.newaxis, 2]\n",
        "y = diabetes.target"
      ],
      "execution_count": 7,
      "outputs": []
    },
    {
      "cell_type": "markdown",
      "metadata": {
        "colab_type": "text",
        "id": "kLTHmM3qu0tz"
      },
      "source": [
        "> Now we can split our dataset into training and test sets. The `train_test_split()` method can do this for us. Here we use an 80/20 split. Then we create the regression classifiers, train them on the training set, and evaluate the models on the test set, printing out the mean squared error. "
      ]
    },
    {
      "cell_type": "code",
      "metadata": {
        "colab_type": "code",
        "id": "QQuzrYj_urRP",
        "colab": {}
      },
      "source": [
        "# Partition the dataset into train and test\n",
        "X_train, X_test, y_train, y_test = train_test_split(X, y, train_size=0.8)\n",
        "\n",
        "# Instantiate the classifiers\n",
        "lin_clf = LinearRegression()\n",
        "# The parameters here are the default values for LogisticRegression,\n",
        "# included here just to suppress a couple warnings\n",
        "log_clf = LogisticRegression(solver='lbfgs', multi_class='multinomial')\n",
        "\n",
        "# Train the classifiers\n",
        "lin_clf.fit(X_train, y_train)\n",
        "log_clf.fit(X_train, y_train)\n",
        "\n",
        "# Calculate predictions on test set\n",
        "lin_predictions = lin_clf.predict(X_test)\n",
        "log_predictions = log_clf.predict(X_test)"
      ],
      "execution_count": 8,
      "outputs": []
    },
    {
      "cell_type": "markdown",
      "metadata": {
        "colab_type": "text",
        "id": "EL_K9_t1vMOc"
      },
      "source": [
        "> To get a better idea of what these models look like, let's plot the models' predictions on top of the test set."
      ]
    },
    {
      "cell_type": "code",
      "metadata": {
        "colab_type": "code",
        "id": "dKnm1BIyYljY",
        "colab": {
          "base_uri": "https://localhost:8080/",
          "height": 279
        },
        "outputId": "be66b199-be14-472e-9f18-ff799a499dc3"
      },
      "source": [
        "import matplotlib.pyplot as plt\n",
        "\n",
        "# Plot the dataset points\n",
        "plt.scatter(X_test, y_test, color='black')\n",
        "\n",
        "# Plot the linear regression predictions\n",
        "# 'cs' means cyan is the color, square is the shape\n",
        "plt.plot(X_test, lin_predictions, 'cs')\n",
        "\n",
        "# Plot the logistic regression predictions\n",
        "# 'm^' means magenta is the color, triangle is the shape\n",
        "plt.plot(X_test, log_predictions, 'm^')\n",
        "\n",
        "# Label axes and legend\n",
        "plt.xlabel(\"Body Mass Index\")\n",
        "plt.ylabel(\"Disease progression after one year\")\n",
        "plt.legend(('Linear', 'Logistic'),\n",
        "           loc=\"lower right\", fontsize='small')\n",
        "# Show the plot\n",
        "plt.show()"
      ],
      "execution_count": 9,
      "outputs": [
        {
          "output_type": "display_data",
          "data": {
            "image/png": "[encoded data removed]",
            "text/plain": [
              "<Figure size 432x288 with 1 Axes>"
            ]
          },
          "metadata": {
            "tags": [],
            "needs_background": "light"
          }
        }
      ]
    },
    {
      "cell_type": "markdown",
      "metadata": {
        "colab_type": "text",
        "id": "ySL0pqapwAfp"
      },
      "source": [
        "> Recall the formula for the error function of our linear regression model, as an example: $w_1x+w_0-y$. We take the input, $x$, place it into our linear model, $w_1x+w_0$, and subtract the true value, $y$. A useful measure of how closely our model predicts all the test samples is Mean Squared Error (MSE). We simply square all of our error values, sum those squares, then divide by $N$ to calculate the mean squared error:\n",
        "\n",
        ">> $\\frac{1}{N}\\sum_{i=1}^N (w_1x+w_0-y)^2$\n",
        "\n",
        "> The logistic regression model has the same calculation for MSE, but with the sigmoid function as the model: $\\frac{1}{1+e^{-(w_1x+w_0)}}$.\n",
        "\n",
        "> Given the above plot, which regression classifier do you think has a larger mean squared error? Check your answer by printing out the values below."
      ]
    },
    {
      "cell_type": "code",
      "metadata": {
        "colab_type": "code",
        "id": "QcQhWFylvnXW",
        "colab": {}
      },
      "source": [
        "from sklearn.metrics import mean_squared_error\n",
        "\n",
        "lin_mse = mean_squared_error(lin_predictions, y_test)\n",
        "log_mse = mean_squared_error(log_predictions, y_test)"
      ],
      "execution_count": 10,
      "outputs": []
    },
    {
      "cell_type": "markdown",
      "metadata": {
        "id": "Hls9RVJcrbYr",
        "colab_type": "text"
      },
      "source": [
        "## practice problems with regression\n"
      ]
    },
    {
      "cell_type": "markdown",
      "metadata": {
        "id": "jtSqI8mRrhwR",
        "colab_type": "text"
      },
      "source": [
        "We need to define some functions for the following exercise. Can you understand what the purpose of each function is?\n"
      ]
    },
    {
      "cell_type": "code",
      "metadata": {
        "id": "hIyA3nOOr4sM",
        "colab_type": "code",
        "colab": {}
      },
      "source": [
        "def generating_func(x, err=0.5):\n",
        "    '''\n",
        "    Takes a value x and err (error). Returns a random sample from a normal\n",
        "    Gaussian distribution with the mean x and standard deviation err.\n",
        "    '''\n",
        "    return np.random.normal(10 - 1. / (x + 0.1), err)\n",
        "\n",
        "\n",
        "def change_params(model):\n",
        "    '''\n",
        "    Note: Linear regression model equation is in the form: y = mx + b.\n",
        "    m = slope\n",
        "    b = y-intercept\n",
        "    This functions takes a linear regression model, slope,\n",
        "    y-intercept and changes the model's slope and y-intercept.\n",
        "    '''\n",
        "    new_m = float(input('Type a number for the slope (m): '))\n",
        "    new_b = float(input('Type a number for the y-intercept (b): '))\n",
        "    model.intercept_ = new_b\n",
        "    model.coef_ = np.array([new_m])\n",
        "\n",
        "\n",
        "def show_model_values(model):\n",
        "    '''\n",
        "    This functions takes a linear regression model and\n",
        "    returns the model's slope and y-intercept.\n",
        "    '''\n",
        "    print('\\nmodel\\'s current slope:', model.coef_[0])\n",
        "    print('model\\'s current y-intercept:', model.intercept_)\n",
        "\n",
        "\n",
        "def graph(model, x, y, x_test):\n",
        "    '''\n",
        "    This functions takes a linear regression model, x and y values, and  \n",
        "    x_test (same values as x values) and plots the model's prediction of y\n",
        "    values from x_test values.\n",
        "    '''\n",
        "    plt.scatter(x, y, marker='x', c='k', s=50)\n",
        "    plt.plot(x_test, model.predict(x_test[:, np.newaxis]), '-b')\n",
        "    plt.xlabel('x')\n",
        "    plt.ylabel('y')\n",
        "    plt.title('price (y-value) vs house size (x-value) in the form: y = mx + b')\n",
        "    plt.grid()\n",
        "    plt.axhline()\n",
        "    plt.axvline()\n",
        "    plt.show()\n",
        "    plt.clf()\n",
        "\n",
        "def evaluate(model, x, y):\n",
        "    y_pred = model.predict(x[:, np.newaxis])\n",
        "    print(\"\\nMean squared error value for model's predicted versus actual y values: \", mean_squared_error(y, y_pred))\n"
      ],
      "execution_count": 12,
      "outputs": []
    },
    {
      "cell_type": "markdown",
      "metadata": {
        "id": "mNkMF3o9sXOk",
        "colab_type": "text"
      },
      "source": [
        "Now comes your part"
      ]
    },
    {
      "cell_type": "code",
      "metadata": {
        "id": "OH-a4N7jskNo",
        "colab_type": "code",
        "colab": {
          "base_uri": "https://localhost:8080/",
          "height": 1000
        },
        "outputId": "1ae2cb28-59b5-4c53-f2a2-b2ae00cc3b6f"
      },
      "source": [
        "print('Note: To change the slope and y-intercept of the linear regression model, close out of the plot window')\n",
        "current_time = time.gmtime()\n",
        "seconds = time.mktime(current_time)\n",
        "# print('Ignore time expressed in seconds since the epoch:', seconds)\n",
        "# Definitely could modify this code such that our data changes\n",
        "n_samples = 8\n",
        "np.random.seed(int(seconds / 13))\n",
        "x = 10 ** np.linspace(-2, 0, n_samples)\n",
        "y = generating_func(x)\n",
        "x_test = np.linspace(-0.2, 1.2, 1000)\n",
        "model = LinearRegression()\n",
        "model.fit(x[:, np.newaxis], y)\n",
        "print('Line of fit when the data is fitted into the linear regression model')\n",
        "graph(model, x, y, x_test)\n",
        "end = False\n",
        "while end != True:\n",
        "    show_model_values(model)\n",
        "    evaluate(model, x, y)\n",
        "        \n",
        "    plot = False\n",
        "    print('\\nOptions:\\n0: To quit\\n1: Change the model\\'s slope and y-intercept\\n2. Replot the previous slope and y-intercept for the model\\n3. Show x and y values\\n')\n",
        "    choice = int(input('Select a choice from the choices in the options: '))\n",
        "    print()\n",
        "    if choice == 0:\n",
        "        end = True\n",
        "    elif choice == 1:\n",
        "        change_params(model)\n",
        "        plot = True\n",
        "        print()\n",
        "    elif choice == 2:\n",
        "        plot = True\n",
        "    elif choice == 3:\n",
        "        print('x values:', x)\n",
        "        print('y values:', y)\n",
        "    else:\n",
        "        print('Invalid choice. Please select one of the options.')\n",
        "        \n",
        "    if plot == True:\n",
        "         graph(model, x, y, x_test)\n",
        "        "
      ],
      "execution_count": null,
      "outputs": [
        {
          "output_type": "stream",
          "text": [
            "Note: To change the slope and y-intercept of the linear regression model, close out of the plot window\n",
            "Line of fit when the data is fitted into the linear regression model\n"
          ],
          "name": "stdout"
        },
        {
          "output_type": "display_data",
          "data": {
            "image/png": "[encoded data removed]",
            "text/plain": [
              "<Figure size 432x288 with 1 Axes>"
            ]
          },
          "metadata": {
            "tags": [],
            "needs_background": "light"
          }
        },
        {
          "output_type": "stream",
          "text": [
            "\n",
            "model's current slope: 7.331946067518556\n",
            "model's current y-intercept: 3.037298915461105\n",
            "\n",
            "Mean squared error value for model's predicted versus actual y values:  2.118211764426163\n",
            "\n",
            "Options:\n",
            "0: To quit\n",
            "1: Change the model's slope and y-intercept\n",
            "2. Replot the previous slope and y-intercept for the model\n",
            "3. Show x and y values\n",
            "\n",
            "Select a choice from the choices in the options: 1\n",
            "\n",
            "Type a number for the slope (m): 9.1\n",
            "Type a number for the y-intercept (b): 3.1\n",
            "\n"
          ],
          "name": "stdout"
        },
        {
          "output_type": "display_data",
          "data": {
            "image/png": "[encoded data removed]",
            "text/plain": [
              "<Figure size 432x288 with 1 Axes>"
            ]
          },
          "metadata": {
            "tags": [],
            "needs_background": "light"
          }
        },
        {
          "output_type": "stream",
          "text": [
            "\n",
            "model's current slope: 9.1\n",
            "model's current y-intercept: 3.1\n",
            "\n",
            "Mean squared error value for model's predicted versus actual y values:  2.713334894553535\n",
            "\n",
            "Options:\n",
            "0: To quit\n",
            "1: Change the model's slope and y-intercept\n",
            "2. Replot the previous slope and y-intercept for the model\n",
            "3. Show x and y values\n",
            "\n"
          ],
          "name": "stdout"
        }
      ]
    }
  ]
}